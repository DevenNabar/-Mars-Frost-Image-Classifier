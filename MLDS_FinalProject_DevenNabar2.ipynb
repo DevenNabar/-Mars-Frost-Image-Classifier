{
  "cells": [
    {
      "cell_type": "markdown",
      "metadata": {},
      "source": [
        "<h1>DSCI552 FINAL PROJECT</h1>\n",
        "<p>NAME: DEVEN PARAG NABAR<br>\n",
        "USERNAME: DEVENNABAR<br>\n",
        "USCID: 7229446568</p>"
      ]
    },
    {
      "cell_type": "code",
      "execution_count": 1,
      "metadata": {
        "colab": {
          "base_uri": "https://localhost:8080/"
        },
        "id": "f9wNREORyR_n",
        "outputId": "7b2a19d3-92d5-4867-d246-dea72e79cb0d"
      },
      "outputs": [
        {
          "data": {
            "text/plain": [
              "[PhysicalDevice(name='/physical_device:GPU:0', device_type='GPU')]"
            ]
          },
          "execution_count": 1,
          "metadata": {},
          "output_type": "execute_result"
        }
      ],
      "source": [
        "import os\n",
        "from pathlib import Path\n",
        "import logging\n",
        "import numpy as np\n",
        "import random\n",
        "import tensorflow as tf\n",
        "from PIL import Image\n",
        "import random\n",
        "import tensorflow as tf\n",
        "import matplotlib.pyplot as plt\n",
        "from tensorflow import keras\n",
        "from sklearn.metrics import classification_report\n",
        "from keras.models import Sequential, load_model\n",
        "from keras.layers import Input, Dense, Conv2D, Flatten, Dropout, MaxPooling2D, BatchNormalization, Activation\n",
        "from keras.optimizers import Adam\n",
        "from keras.losses import SparseCategoricalCrossentropy, BinaryCrossentropy\n",
        "from keras.callbacks import EarlyStopping\n",
        "from keras import regularizers\n",
        "from keras.layers.experimental.preprocessing import RandomCrop, RandomFlip, RandomRotation, RandomZoom, RandomContrast, RandomTranslation\n",
        "import warnings\n",
        "warnings.filterwarnings(\"ignore\")\n",
        "tf.config.list_physical_devices('GPU')"
      ]
    },
    {
      "cell_type": "code",
      "execution_count": 2,
      "metadata": {
        "colab": {
          "base_uri": "https://localhost:8080/"
        },
        "id": "q-K_4PSigurO",
        "outputId": "c336ccaf-5d6f-417a-9a44-4c97886c6463"
      },
      "outputs": [
        {
          "name": "stdout",
          "output_type": "stream",
          "text": [
            "Mounted at /content/drive\n"
          ]
        }
      ],
      "source": [
        "from google.colab import drive\n",
        "drive.mount('/content/drive')"
      ]
    },
    {
      "cell_type": "code",
      "execution_count": 3,
      "metadata": {
        "colab": {
          "base_uri": "https://localhost:8080/"
        },
        "id": "FmdehtFcxQ77",
        "outputId": "98c163d4-114e-47e3-eb69-5898efc25633"
      },
      "outputs": [
        {
          "name": "stdout",
          "output_type": "stream",
          "text": [
            "--2023-12-11 03:12:15--  https://www.dropbox.com/sh/38zygdpo6u7alwy/AAB1PJuhqF-58GZJ-oD4xl5Ya?dl=0\n",
            "Resolving www.dropbox.com (www.dropbox.com)... 162.125.64.18, 2620:100:6031:18::a27d:5112\n",
            "Connecting to www.dropbox.com (www.dropbox.com)|162.125.64.18|:443... connected.\n",
            "HTTP request sent, awaiting response... 302 Found\n",
            "Location: /sh/raw/38zygdpo6u7alwy/AAB1PJuhqF-58GZJ-oD4xl5Ya [following]\n",
            "--2023-12-11 03:12:16--  https://www.dropbox.com/sh/raw/38zygdpo6u7alwy/AAB1PJuhqF-58GZJ-oD4xl5Ya\n",
            "Reusing existing connection to www.dropbox.com:443.\n",
            "HTTP request sent, awaiting response... 302 Found\n",
            "Location: https://uc70adfb6ac51cc67b359c099eba.dl.dropboxusercontent.com/zip_download_get/Bsn2OjPbxLZQjppaIoTxZf_tFm5-zilqnF2eWSQepGVu6cjiAMJ2tKsPBCxXMi3sUYQqxXGdTlFHl4F0rlNGDHRcWxulJfQAXaMJ_MszI3wVMQ# [following]\n",
            "--2023-12-11 03:12:17--  https://uc70adfb6ac51cc67b359c099eba.dl.dropboxusercontent.com/zip_download_get/Bsn2OjPbxLZQjppaIoTxZf_tFm5-zilqnF2eWSQepGVu6cjiAMJ2tKsPBCxXMi3sUYQqxXGdTlFHl4F0rlNGDHRcWxulJfQAXaMJ_MszI3wVMQ\n",
            "Resolving uc70adfb6ac51cc67b359c099eba.dl.dropboxusercontent.com (uc70adfb6ac51cc67b359c099eba.dl.dropboxusercontent.com)... 162.125.81.15, 2620:100:6031:15::a27d:510f\n",
            "Connecting to uc70adfb6ac51cc67b359c099eba.dl.dropboxusercontent.com (uc70adfb6ac51cc67b359c099eba.dl.dropboxusercontent.com)|162.125.81.15|:443... connected.\n",
            "HTTP request sent, awaiting response... 200 OK\n",
            "Length: 2738462210 (2.5G) [application/zip]\n",
            "Saving to: ‘AAB1PJuhqF-58GZJ-oD4xl5Ya?dl=0’\n",
            "\n",
            "AAB1PJuhqF-58GZJ-oD 100%[===================>]   2.55G  10.3MB/s    in 4m 30s  \n",
            "\n",
            "2023-12-11 03:16:47 (9.68 MB/s) - ‘AAB1PJuhqF-58GZJ-oD4xl5Ya?dl=0’ saved [2738462210/2738462210]\n",
            "\n"
          ]
        }
      ],
      "source": [
        "!wget https://www.dropbox.com/sh/38zygdpo6u7alwy/AAB1PJuhqF-58GZJ-oD4xl5Ya?dl=0"
      ]
    },
    {
      "cell_type": "code",
      "execution_count": 4,
      "metadata": {
        "id": "B2pTlCPWxr99"
      },
      "outputs": [],
      "source": [
        "import zipfile\n",
        "with zipfile.ZipFile(\"/content/AAB1PJuhqF-58GZJ-oD4xl5Ya?dl=0\",\"r\") as zip_ref:\n",
        "    zip_ref.extractall(\"data\")\n",
        "\n",
        "with zipfile.ZipFile(\"/content/data/data.zip\",\"r\") as zip_ref:\n",
        "    zip_ref.extractall(\"data\")\n"
      ]
    },
    {
      "cell_type": "code",
      "execution_count": 5,
      "metadata": {
        "id": "IIKTFLL_yCJL"
      },
      "outputs": [],
      "source": [
        "import os\n",
        "import os.path as op\n",
        "import json\n",
        "from pathlib import Path\n",
        "import shutil\n",
        "import logging\n",
        "import numpy as np\n",
        "from tqdm import tqdm\n",
        "from skimage import io\n",
        "\n",
        "# Logging configuration\n",
        "logging.basicConfig(level=logging.INFO,\n",
        "                    datefmt='%H:%M:%S',\n",
        "                    format='%(asctime)s | %(levelname)-5s | %(module)-15s | %(message)s')\n",
        "\n",
        "IMAGE_SIZE = (299, 299)  # All images contained in this dataset are 299x299 (originally, to match Inception v3 input size)\n",
        "SEED = 17\n",
        "\n",
        "# Head directory containing all image subframes\n",
        "data_head_dir = Path('./data/data')\n",
        "# data_head_dir = Path('./drive/MyDrive/data')\n",
        "\n",
        "\n",
        "# Find all subframe directories\n",
        "subdirs = [Path(subdir.stem) for subdir in data_head_dir.iterdir() if subdir.is_dir()]\n",
        "src_image_ids = ['_'.join(a_path.name.split('_')[:3]) for a_path in subdirs]"
      ]
    },
    {
      "cell_type": "code",
      "execution_count": 6,
      "metadata": {
        "id": "zX0C7aSryNYt"
      },
      "outputs": [],
      "source": [
        "# Load train/val/test subframe IDs\n",
        "def load_text_ids(file_path):\n",
        "    \"\"\"Simple helper to load all lines from a text file\"\"\"\n",
        "    with open(file_path, 'r') as f:\n",
        "        lines = [line.strip() for line in f.readlines()]\n",
        "        # print(lines)\n",
        "    return lines\n",
        "\n",
        "# Load the subframe names for the three data subsets\n",
        "train_ids = load_text_ids('/content/drive/MyDrive/train_source_images.txt')\n",
        "validate_ids = load_text_ids('/content/drive/MyDrive/val_source_images.txt')\n",
        "test_ids = load_text_ids('/content/drive/MyDrive/test_source_images.txt')\n",
        "# train_ids = load_text_ids('test_source_images.txt')\n",
        "# validate_ids = load_text_ids('val_source_images.txt')\n",
        "# test_ids = load_text_ids('test_source_images.txt')\n",
        "\n",
        "# Generate a list containing the dataset split for the matching subdirectory names\n",
        "subdir_splits = []\n",
        "for src_id in src_image_ids:\n",
        "    if src_id in train_ids:\n",
        "        subdir_splits.append('train')\n",
        "    elif src_id in validate_ids:\n",
        "        subdir_splits.append('validate')\n",
        "    elif(src_id in test_ids):\n",
        "        subdir_splits.append('test')\n",
        "    else:\n",
        "        logging.warning(f'{src_id}: Did not find designated split in train/validate/test list.')\n",
        "        subdir_splits.append(None)\n"
      ]
    },
    {
      "cell_type": "code",
      "execution_count": 7,
      "metadata": {
        "id": "4ShSx_kwyhDh"
      },
      "outputs": [],
      "source": [
        "# function taken from Piazza\n",
        "def load_and_preprocess(img_loc, label):\n",
        "\n",
        "    def _inner_function(img_loc, label):\n",
        "        # Convert tensor to native type\n",
        "        img_loc_str = img_loc.numpy().decode('utf-8')\n",
        "\n",
        "        # Load image using PIL and convert to RGB\n",
        "        img = Image.open(img_loc_str).convert('RGB')\n",
        "\n",
        "        # Convert PIL image to numpy array\n",
        "        img = np.array(img)\n",
        "        img = tf.image.resize(img, [299, 299])\n",
        "\n",
        "        # Normalize the image to the [0, 1] range\n",
        "        img = img / 255.0\n",
        "\n",
        "        # Convert label to integer (assuming binary classification)\n",
        "        label = 1 if label.numpy().decode('utf-8') == 'frost' else 0\n",
        "\n",
        "        return img, label\n",
        "\n",
        "    # Wrap the Python function\n",
        "    X, y = tf.py_function(_inner_function, [img_loc, label], [tf.float32, tf.int64])\n",
        "\n",
        "    # Set the shape of the tensors\n",
        "    X.set_shape([299, 299, 3])\n",
        "    y.set_shape([])\n",
        "\n",
        "    return X, y\n",
        "\n",
        "def load_subdir_data(dir_path, image_size, seed=None):\n",
        "\n",
        "    \"\"\"Helper to create a TF dataset from each image subdirectory\"\"\"\n",
        "\n",
        "    # Grab only the classes that (1) we want to keep and (2) exist in this directory\n",
        "    tile_dir = dir_path / Path('tiles')\n",
        "    label_dir = dir_path /Path('labels')\n",
        "\n",
        "    loc_list = []\n",
        "\n",
        "    for folder in os.listdir(tile_dir):\n",
        "        if os.path.isdir(os.path.join(tile_dir, folder)):\n",
        "            for file in os.listdir(os.path.join(tile_dir, folder)):\n",
        "                if file.endswith(\".png\"):\n",
        "                    loc_list.append((os.path.join(os.path.join(tile_dir, folder), file), folder))\n",
        "\n",
        "    return loc_list\n",
        "\n",
        "# Loop over all subframes, loading each into a list\n",
        "tf_data_train, tf_data_test, tf_data_val = [], [], []\n",
        "tf_dataset_train, tf_dataset_test, tf_dataset_val = [], [], []\n",
        "\n",
        "# Update the batch and buffer size as per your model requirements\n",
        "buffer_size = 128\n",
        "batch_size = 64\n",
        "\n",
        "for subdir, split in zip(subdirs, subdir_splits):\n",
        "    full_path = data_head_dir / subdir\n",
        "    if split=='validate':\n",
        "        tf_data_val.extend(load_subdir_data(full_path, IMAGE_SIZE, SEED))\n",
        "    elif split=='train':\n",
        "        tf_data_train.extend(load_subdir_data(full_path, IMAGE_SIZE, SEED))\n",
        "    elif split=='test':\n",
        "        tf_data_test.extend(load_subdir_data(full_path, IMAGE_SIZE, SEED))\n",
        "\n",
        "random.shuffle(tf_data_train)\n",
        "img_list, label_list = zip(*tf_data_train)\n",
        "img_list_t = tf.convert_to_tensor(img_list)\n",
        "lb_list_t = tf.convert_to_tensor(label_list)\n",
        "\n",
        "tf_dataset_train = tf.data.Dataset.from_tensor_slices((img_list_t, lb_list_t))\n",
        "tf_dataset_train = tf_dataset_train.map(load_and_preprocess, num_parallel_calls=tf.data.experimental.AUTOTUNE)\n",
        "tf_dataset_train = tf_dataset_train.shuffle(buffer_size=buffer_size).batch(batch_size)\n",
        "\n",
        "random.shuffle(tf_data_val)\n",
        "img_list, label_list = zip(*tf_data_val)\n",
        "img_list_t = tf.convert_to_tensor(img_list)\n",
        "lb_list_t = tf.convert_to_tensor(label_list)\n",
        "\n",
        "tf_dataset_val = tf.data.Dataset.from_tensor_slices((img_list_t, lb_list_t))\n",
        "tf_dataset_val = tf_dataset_val.map(load_and_preprocess, num_parallel_calls=tf.data.experimental.AUTOTUNE)\n",
        "tf_dataset_val = tf_dataset_val.shuffle(buffer_size=buffer_size).batch(batch_size)\n",
        "\n",
        "random.shuffle(tf_data_test)\n",
        "img_list, label_list = zip(*tf_data_test)\n",
        "img_list_t = tf.convert_to_tensor(img_list)\n",
        "lb_list_t = tf.convert_to_tensor(label_list)\n",
        "\n",
        "tf_dataset_test = tf.data.Dataset.from_tensor_slices((img_list_t, lb_list_t))\n",
        "tf_dataset_test = tf_dataset_test.map(load_and_preprocess, num_parallel_calls=tf.data.experimental.AUTOTUNE)\n",
        "tf_dataset_test = tf_dataset_test.shuffle(buffer_size=buffer_size).batch(batch_size)"
      ]
    },
    {
      "cell_type": "code",
      "execution_count": 8,
      "metadata": {
        "id": "AEBxIkP-zAv0"
      },
      "outputs": [],
      "source": [
        "# All Data Augmentation Layers mentioned in the project document\n",
        "data_augmentation = Sequential([\n",
        "    RandomFlip(\"horizontal_and_vertical\"),\n",
        "    RandomRotation(0.2),\n",
        "    RandomZoom(0.2),\n",
        "    RandomTranslation(height_factor=0.2, width_factor=0.2),\n",
        "    RandomContrast(factor=0.2),\n",
        "    RandomCrop(height=299, width=299)\n",
        "])"
      ]
    },
    {
      "cell_type": "code",
      "execution_count": 15,
      "metadata": {
        "id": "DYC5XSr_1T9f"
      },
      "outputs": [],
      "source": [
        "from sklearn.metrics import classification_report, confusion_matrix, f1_score, roc_curve, auc, accuracy_score, ConfusionMatrixDisplay\n",
        "import seaborn as sns\n",
        "from yellowbrick.classifier import ClassificationReport\n",
        "\n",
        "\n",
        "\n",
        "def eval_model(model, tf_data):\n",
        "    y_true = []\n",
        "    y_pred = []\n",
        "    for batch_data, batch_label in tf_data:\n",
        "        preds = model.predict(batch_data)\n",
        "        # print(preds)\n",
        "        # print(batch_label)\n",
        "        y_true.extend(batch_label.numpy().astype(int))\n",
        "        y_pred.extend(np.argmax(preds, axis=1).astype(int))\n",
        "    # print(y_pred)\n",
        "    # print(\"##\")\n",
        "    # print(y_true)\n",
        "    print(\"confusion_matrix\")\n",
        "    conf_matrix = confusion_matrix(y_true, y_pred)\n",
        "    plt.figure(figsize=(8, 6))\n",
        "    sns.heatmap(conf_matrix, annot=True, fmt='d', cmap='Blues',\n",
        "                xticklabels=['Non-Frost', 'Frost'], yticklabels=['Non-Frost', 'Frost'])\n",
        "    plt.title('Confusion Matrix')\n",
        "    plt.xlabel('Predicted Label')\n",
        "    plt.ylabel('True Label')\n",
        "    plt.show()\n",
        "\n",
        "    print(\"classification report\")\n",
        "    print(classification_report(y_true, y_pred))\n",
        "\n",
        "\n"
      ]
    },
    {
      "cell_type": "code",
      "execution_count": 9,
      "metadata": {
        "id": "pT0QMxao1ZZv"
      },
      "outputs": [],
      "source": [
        "import numpy as np\n",
        "import pandas as pd\n",
        "import tensorflow as tf\n",
        "import os\n",
        "import cv2\n",
        "import warnings\n",
        "warnings.filterwarnings('ignore')\n",
        "from random import sample\n",
        "import math\n",
        "import matplotlib.pyplot as plt\n",
        "from tensorflow import keras\n",
        "from keras.layers import Input, Lambda, Dense, Flatten,Dropout,BatchNormalization,Activation\n",
        "from keras.models import Model\n",
        "from keras.applications.vgg16 import VGG16\n",
        "from keras.applications import ResNet50\n",
        "from keras.applications.vgg16 import preprocess_input\n",
        "from keras.preprocessing import image\n",
        "from keras.preprocessing.image import ImageDataGenerator\n",
        "from keras.models import Sequential\n",
        "from keras.callbacks import EarlyStopping\n",
        "from keras.applications import EfficientNetB0\n",
        "from keras.preprocessing.image import ImageDataGenerator\n",
        "from keras.metrics import Precision, Recall\n",
        "from sklearn.metrics import classification_report\n",
        "from sklearn.metrics import confusion_matrix\n",
        "from sklearn.metrics import ConfusionMatrixDisplay"
      ]
    },
    {
      "cell_type": "code",
      "execution_count": 10,
      "metadata": {
        "colab": {
          "base_uri": "https://localhost:8080/"
        },
        "id": "-QnBwMhL1jJA",
        "outputId": "864707fb-c98e-4e09-e798-3e9eb9a2f317"
      },
      "outputs": [
        {
          "name": "stdout",
          "output_type": "stream",
          "text": [
            "Downloading data from https://storage.googleapis.com/tensorflow/keras-applications/vgg16/vgg16_weights_tf_dim_ordering_tf_kernels_notop.h5\n",
            "58889256/58889256 [==============================] - 4s 0us/step\n",
            "Model: \"model\"\n",
            "_________________________________________________________________\n",
            " Layer (type)                Output Shape              Param #   \n",
            "=================================================================\n",
            " input_2 (InputLayer)        [(None, 299, 299, 3)]     0         \n",
            "                                                                 \n",
            " sequential_1 (Sequential)   (None, 299, 299, 3)       0         \n",
            "                                                                 \n",
            " vgg16 (Functional)          (None, 9, 9, 512)         14714688  \n",
            "                                                                 \n",
            " flatten (Flatten)           (None, 41472)             0         \n",
            "                                                                 \n",
            " batch_normalization (Batch  (None, 41472)             165888    \n",
            " Normalization)                                                  \n",
            "                                                                 \n",
            " dropout (Dropout)           (None, 41472)             0         \n",
            "                                                                 \n",
            " dense (Dense)               (None, 1024)              42468352  \n",
            "                                                                 \n",
            " batch_normalization_1 (Bat  (None, 1024)              4096      \n",
            " chNormalization)                                                \n",
            "                                                                 \n",
            " dropout_1 (Dropout)         (None, 1024)              0         \n",
            "                                                                 \n",
            " dense_1 (Dense)             (None, 1)                 1025      \n",
            "                                                                 \n",
            "=================================================================\n",
            "Total params: 57354049 (218.79 MB)\n",
            "Trainable params: 42554369 (162.33 MB)\n",
            "Non-trainable params: 14799680 (56.46 MB)\n",
            "_________________________________________________________________\n"
          ]
        }
      ],
      "source": [
        "from keras.applications import VGG16\n",
        "from keras.models import Sequential, Model\n",
        "from keras.layers import Input, Flatten, Dense, BatchNormalization, Dropout\n",
        "from keras.optimizers import Adam\n",
        "from keras.losses import BinaryCrossentropy\n",
        "from keras.layers.experimental.preprocessing import RandomFlip, RandomRotation, RandomZoom, RandomTranslation, RandomContrast, RandomCrop\n",
        "\n",
        "def build_custom_model(input_shape=(299, 299, 3)):\n",
        "    # Define data augmentation layer\n",
        "    data_augmentation = Sequential([\n",
        "        RandomFlip(\"horizontal_and_vertical\"),\n",
        "        RandomRotation(0.2),\n",
        "        RandomZoom(0.2),\n",
        "        RandomTranslation(height_factor=0.2, width_factor=0.2),\n",
        "        RandomContrast(factor=0.2),\n",
        "        RandomCrop(height=299, width=299)\n",
        "    ])\n",
        "\n",
        "    # Base VGG16 model\n",
        "    base_model = VGG16(include_top=False, weights='imagenet', input_shape=input_shape)\n",
        "    base_model.trainable = False\n",
        "\n",
        "    # Build the custom model\n",
        "    inputs = Input(shape=input_shape)\n",
        "    augmented_inputs = data_augmentation(inputs)\n",
        "    features = base_model(augmented_inputs)\n",
        "    flattened_features = Flatten()(features)\n",
        "    normalized_features = BatchNormalization()(flattened_features)\n",
        "    dropout1 = Dropout(0.2)(normalized_features)\n",
        "    dense1 = Dense(1024, activation='relu')(dropout1)\n",
        "    normalized_dense1 = BatchNormalization()(dense1)\n",
        "    dropout2 = Dropout(0.2)(normalized_dense1)\n",
        "    output = Dense(1, activation='sigmoid')(dropout2)\n",
        "\n",
        "    model = Model(inputs=inputs, outputs=output)\n",
        "\n",
        "    # Compile the model\n",
        "    model.compile(optimizer=Adam(learning_rate=0.001),\n",
        "                  loss=BinaryCrossentropy(from_logits=True),\n",
        "                  metrics=['accuracy'])\n",
        "\n",
        "    return model\n",
        "\n",
        "# Build the model\n",
        "custom_model = build_custom_model()\n",
        "\n",
        "# Display the model summary\n",
        "custom_model.summary()\n"
      ]
    },
    {
      "cell_type": "code",
      "execution_count": 11,
      "metadata": {
        "colab": {
          "base_uri": "https://localhost:8080/"
        },
        "id": "qokNzFTy3Ld7",
        "outputId": "bd7fd222-cdd3-408a-8332-c9eed5bab281"
      },
      "outputs": [
        {
          "name": "stdout",
          "output_type": "stream",
          "text": [
            "Epoch 1/20\n",
            "464/464 [==============================] - 577s 1s/step - loss: 0.4050 - accuracy: 0.8290 - val_loss: 0.8987 - val_accuracy: 0.5774\n",
            "Epoch 2/20\n",
            "464/464 [==============================] - 525s 1s/step - loss: 0.2954 - accuracy: 0.8710 - val_loss: 0.9102 - val_accuracy: 0.6450\n",
            "Epoch 3/20\n",
            "464/464 [==============================] - 520s 1s/step - loss: 0.2642 - accuracy: 0.8856 - val_loss: 0.8842 - val_accuracy: 0.6750\n",
            "Epoch 4/20\n",
            "464/464 [==============================] - 521s 1s/step - loss: 0.2551 - accuracy: 0.8898 - val_loss: 0.9219 - val_accuracy: 0.6650\n",
            "Epoch 5/20\n",
            "464/464 [==============================] - 520s 1s/step - loss: 0.2432 - accuracy: 0.8956 - val_loss: 0.9055 - val_accuracy: 0.6820\n",
            "Epoch 6/20\n",
            "464/464 [==============================] - 520s 1s/step - loss: 0.2357 - accuracy: 0.8981 - val_loss: 0.6501 - val_accuracy: 0.7341\n",
            "Epoch 7/20\n",
            "464/464 [==============================] - 523s 1s/step - loss: 0.2325 - accuracy: 0.9017 - val_loss: 0.7264 - val_accuracy: 0.7524\n",
            "Epoch 8/20\n",
            "464/464 [==============================] - 524s 1s/step - loss: 0.2258 - accuracy: 0.9036 - val_loss: 1.1611 - val_accuracy: 0.6775\n",
            "Epoch 9/20\n",
            "464/464 [==============================] - 522s 1s/step - loss: 0.2271 - accuracy: 0.9048 - val_loss: 1.1380 - val_accuracy: 0.6368\n",
            "Epoch 10/20\n",
            "464/464 [==============================] - 519s 1s/step - loss: 0.2222 - accuracy: 0.9072 - val_loss: 1.2726 - val_accuracy: 0.6698\n",
            "Epoch 11/20\n",
            "464/464 [==============================] - 521s 1s/step - loss: 0.2080 - accuracy: 0.9139 - val_loss: 1.0371 - val_accuracy: 0.6927\n",
            "Epoch 12/20\n",
            "464/464 [==============================] - 521s 1s/step - loss: 0.2080 - accuracy: 0.9113 - val_loss: 0.7814 - val_accuracy: 0.7533\n",
            "Epoch 13/20\n",
            "464/464 [==============================] - 522s 1s/step - loss: 0.2102 - accuracy: 0.9114 - val_loss: 1.0908 - val_accuracy: 0.6956\n",
            "Epoch 14/20\n",
            "464/464 [==============================] - 520s 1s/step - loss: 0.2031 - accuracy: 0.9170 - val_loss: 1.0263 - val_accuracy: 0.6819\n",
            "Epoch 15/20\n",
            "464/464 [==============================] - 519s 1s/step - loss: 0.1966 - accuracy: 0.9178 - val_loss: 0.9195 - val_accuracy: 0.7105\n",
            "Epoch 16/20\n",
            "464/464 [==============================] - 523s 1s/step - loss: 0.1943 - accuracy: 0.9188 - val_loss: 0.9711 - val_accuracy: 0.7164\n"
          ]
        }
      ],
      "source": [
        "early_stopping = EarlyStopping(monitor='val_loss', patience=10, restore_best_weights=True)\n",
        "history1 = custom_model.fit(tf_dataset_train, epochs=20, verbose=1, validation_data=tf_dataset_val,callbacks=[early_stopping])"
      ]
    },
    {
      "cell_type": "code",
      "execution_count": 12,
      "metadata": {
        "colab": {
          "base_uri": "https://localhost:8080/"
        },
        "id": "CRnyIiUbZvZE",
        "outputId": "3577d2c8-46a2-46b0-b12f-309cf18a505e"
      },
      "outputs": [
        {
          "name": "stdout",
          "output_type": "stream",
          "text": [
            "201/201 [==============================] - 177s 874ms/step - loss: 0.3019 - accuracy: 0.8753\n",
            "test accuracy -  87.53021955490112 %\n"
          ]
        }
      ],
      "source": [
        "test_loss2,test_accuracy2 = custom_model.evaluate(tf_dataset_test)\n",
        "print(\"test accuracy - \",test_accuracy2*100, \"%\")"
      ]
    },
    {
      "cell_type": "code",
      "execution_count": 13,
      "metadata": {
        "id": "OfYYjuAz04lg"
      },
      "outputs": [],
      "source": [
        "import matplotlib.pyplot as plt\n",
        "\n",
        "def plot_loss(history):\n",
        "    plt.plot(history.history['loss'], label='Training Loss')\n",
        "    plt.plot(history.history['val_loss'], label='Validation Loss')\n",
        "    plt.xlabel('Epochs')\n",
        "    plt.ylabel('Loss')\n",
        "    plt.legend()\n",
        "    plt.show()\n",
        "\n",
        "# Example usage:\n",
        "# Assuming you have a variable named 'history' that contains the training history.\n",
        "# plot_loss(history)\n"
      ]
    },
    {
      "cell_type": "code",
      "execution_count": 14,
      "metadata": {
        "id": "XLARsgyQ1BSK"
      },
      "outputs": [],
      "source": [
        "import matplotlib.pyplot as plt\n",
        "\n",
        "def plot_accuracy(history):\n",
        "    plt.plot(history.history['accuracy'], label='Training Accuracy')\n",
        "    plt.plot(history.history['val_accuracy'], label='Validation Accuracy')\n",
        "    plt.xlabel('Epochs')\n",
        "    plt.ylabel('Accuracy')\n",
        "    plt.legend()\n",
        "    plt.show()\n",
        "\n",
        "# Example usage:\n",
        "# Assuming you have a variable named 'history' that contains the training history.\n",
        "# plot_accuracy(history)\n"
      ]
    },
    {
      "cell_type": "code",
      "execution_count": 17,
      "metadata": {
        "colab": {
          "base_uri": "https://localhost:8080/",
          "height": 503
        },
        "id": "g52gpvIjbuhF",
        "outputId": "5bf38ac5-ad70-4aed-cc2c-5d43f8eb7495"
      },
      "outputs": [
        {
          "data": {
            "image/png": "[encoded data removed]",
            "text/plain": [
              "<Figure size 800x550 with 1 Axes>"
            ]
          },
          "metadata": {},
          "output_type": "display_data"
        }
      ],
      "source": [
        "plot_accuracy(history1)"
      ]
    },
    {
      "cell_type": "code",
      "execution_count": 18,
      "metadata": {
        "colab": {
          "base_uri": "https://localhost:8080/",
          "height": 503
        },
        "id": "Rv6GTxq9bush",
        "outputId": "477aed8a-ee61-4467-e381-2ec49f619d6a"
      },
      "outputs": [
        {
          "data": {
            "image/png": "[encoded data removed]",
            "text/plain": [
              "<Figure size 800x550 with 1 Axes>"
            ]
          },
          "metadata": {},
          "output_type": "display_data"
        }
      ],
      "source": [
        "plot_loss(history1)"
      ]
    },
    {
      "cell_type": "code",
      "execution_count": 24,
      "metadata": {
        "id": "Frez5NNJe5tz"
      },
      "outputs": [],
      "source": [
        "from sklearn.metrics import classification_report, confusion_matrix, f1_score, roc_curve, auc, accuracy_score, ConfusionMatrixDisplay\n",
        "import seaborn as sns\n",
        "from yellowbrick.classifier import ClassificationReport\n",
        "\n",
        "\n",
        "\n",
        "def eval_model(model, tf_data):\n",
        "    y_true = []\n",
        "    y_pred = []\n",
        "    for batch_data, batch_label in tf_data:\n",
        "        preds = model.predict(batch_data)\n",
        "        # print(preds)\n",
        "        # print(batch_label)\n",
        "        y_true.extend(batch_label.numpy().astype(int))\n",
        "        y_pred.extend(np.argmax(preds, axis=1).astype(int))\n",
        "    # print(y_pred)\n",
        "    # print(\"##\")\n",
        "    # print(y_true)\n",
        "    # print(\"confusion_matrix\")\n",
        "    # conf_matrix = confusion_matrix(y_true, y_pred)\n",
        "    # plt.figure(figsize=(8, 6))\n",
        "    # sns.heatmap(conf_matrix, annot=True, fmt='d', cmap='Blues',\n",
        "    #             xticklabels=['Non-Frost', 'Frost'], yticklabels=['Non-Frost', 'Frost'])\n",
        "    # plt.title('Confusion Matrix')\n",
        "    # plt.xlabel('Predicted Label')\n",
        "    # plt.ylabel('True Label')\n",
        "    # plt.show()\n",
        "\n",
        "    print(\"classification report\")\n",
        "    print(classification_report(y_true, y_pred))"
      ]
    },
    {
      "cell_type": "code",
      "execution_count": 25,
      "metadata": {
        "colab": {
          "base_uri": "https://localhost:8080/"
        },
        "id": "UEbMdL73dOEf",
        "outputId": "3335d84d-1da9-458e-e5f7-a1de0295ebeb"
      },
      "outputs": [
        {
          "name": "stdout",
          "output_type": "stream",
          "text": [
            "Evaluation for VGG16\n",
            "2/2 [==============================] - 1s 251ms/step\n",
            "2/2 [==============================] - 0s 19ms/step\n",
            "2/2 [==============================] - 0s 40ms/step\n",
            "2/2 [==============================] - 1s 469ms/step\n",
            "2/2 [==============================] - 0s 245ms/step\n",
            "2/2 [==============================] - 0s 25ms/step\n",
            "2/2 [==============================] - 1s 481ms/step\n",
            "2/2 [==============================] - 0s 22ms/step\n",
            "2/2 [==============================] - 1s 488ms/step\n",
            "2/2 [==============================] - 0s 252ms/step\n",
            "2/2 [==============================] - 1s 486ms/step\n",
            "2/2 [==============================] - 0s 302ms/step\n",
            "2/2 [==============================] - 0s 23ms/step\n",
            "2/2 [==============================] - 1s 504ms/step\n",
            "2/2 [==============================] - 1s 503ms/step\n",
            "2/2 [==============================] - 0s 269ms/step\n",
            "2/2 [==============================] - 0s 37ms/step\n",
            "2/2 [==============================] - 1s 490ms/step\n",
            "2/2 [==============================] - 1s 502ms/step\n",
            "2/2 [==============================] - 0s 35ms/step\n",
            "2/2 [==============================] - 1s 488ms/step\n",
            "2/2 [==============================] - 0s 21ms/step\n",
            "2/2 [==============================] - 1s 265ms/step\n",
            "2/2 [==============================] - 1s 277ms/step\n",
            "2/2 [==============================] - 1s 265ms/step\n",
            "2/2 [==============================] - 0s 21ms/step\n",
            "2/2 [==============================] - 0s 259ms/step\n",
            "2/2 [==============================] - 1s 453ms/step\n",
            "2/2 [==============================] - 0s 266ms/step\n",
            "2/2 [==============================] - 1s 487ms/step\n",
            "2/2 [==============================] - 1s 505ms/step\n",
            "2/2 [==============================] - 1s 507ms/step\n",
            "2/2 [==============================] - 1s 306ms/step\n",
            "2/2 [==============================] - 0s 269ms/step\n",
            "2/2 [==============================] - 1s 273ms/step\n",
            "2/2 [==============================] - 1s 517ms/step\n",
            "2/2 [==============================] - 1s 503ms/step\n",
            "2/2 [==============================] - 0s 31ms/step\n",
            "2/2 [==============================] - 0s 26ms/step\n",
            "2/2 [==============================] - 1s 261ms/step\n",
            "2/2 [==============================] - 1s 260ms/step\n",
            "2/2 [==============================] - 1s 481ms/step\n",
            "2/2 [==============================] - 0s 23ms/step\n",
            "2/2 [==============================] - 1s 467ms/step\n",
            "2/2 [==============================] - 1s 490ms/step\n",
            "2/2 [==============================] - 0s 23ms/step\n",
            "2/2 [==============================] - 1s 378ms/step\n",
            "2/2 [==============================] - 0s 254ms/step\n",
            "2/2 [==============================] - 0s 29ms/step\n",
            "2/2 [==============================] - 0s 247ms/step\n",
            "2/2 [==============================] - 0s 21ms/step\n",
            "2/2 [==============================] - 1s 267ms/step\n",
            "2/2 [==============================] - 0s 78ms/step\n",
            "2/2 [==============================] - 0s 31ms/step\n",
            "2/2 [==============================] - 1s 484ms/step\n",
            "2/2 [==============================] - 1s 501ms/step\n",
            "2/2 [==============================] - 1s 477ms/step\n",
            "2/2 [==============================] - 1s 524ms/step\n",
            "2/2 [==============================] - 0s 259ms/step\n",
            "2/2 [==============================] - 0s 245ms/step\n",
            "2/2 [==============================] - 0s 248ms/step\n",
            "2/2 [==============================] - 0s 250ms/step\n",
            "2/2 [==============================] - 0s 23ms/step\n",
            "2/2 [==============================] - 0s 406ms/step\n",
            "2/2 [==============================] - 1s 473ms/step\n",
            "2/2 [==============================] - 0s 116ms/step\n",
            "2/2 [==============================] - 1s 472ms/step\n",
            "2/2 [==============================] - 0s 252ms/step\n",
            "2/2 [==============================] - 0s 242ms/step\n",
            "2/2 [==============================] - 0s 78ms/step\n",
            "2/2 [==============================] - 1s 268ms/step\n",
            "2/2 [==============================] - 0s 23ms/step\n",
            "2/2 [==============================] - 0s 264ms/step\n",
            "2/2 [==============================] - 1s 493ms/step\n",
            "2/2 [==============================] - 1s 498ms/step\n",
            "2/2 [==============================] - 0s 19ms/step\n",
            "2/2 [==============================] - 0s 245ms/step\n",
            "2/2 [==============================] - 1s 261ms/step\n",
            "2/2 [==============================] - 0s 96ms/step\n",
            "2/2 [==============================] - 1s 478ms/step\n",
            "2/2 [==============================] - 1s 433ms/step\n",
            "2/2 [==============================] - 0s 23ms/step\n",
            "2/2 [==============================] - 0s 249ms/step\n",
            "2/2 [==============================] - 1s 478ms/step\n",
            "2/2 [==============================] - 0s 243ms/step\n",
            "2/2 [==============================] - 0s 244ms/step\n",
            "2/2 [==============================] - 0s 25ms/step\n",
            "2/2 [==============================] - 1s 486ms/step\n",
            "2/2 [==============================] - 0s 255ms/step\n",
            "2/2 [==============================] - 0s 213ms/step\n",
            "2/2 [==============================] - 0s 281ms/step\n",
            "2/2 [==============================] - 1s 489ms/step\n",
            "2/2 [==============================] - 1s 410ms/step\n",
            "2/2 [==============================] - 1s 264ms/step\n",
            "2/2 [==============================] - 1s 479ms/step\n",
            "2/2 [==============================] - 0s 20ms/step\n",
            "2/2 [==============================] - 0s 76ms/step\n",
            "2/2 [==============================] - 0s 24ms/step\n",
            "2/2 [==============================] - 1s 486ms/step\n",
            "2/2 [==============================] - 0s 137ms/step\n",
            "2/2 [==============================] - 0s 242ms/step\n",
            "2/2 [==============================] - 1s 483ms/step\n",
            "2/2 [==============================] - 0s 24ms/step\n",
            "2/2 [==============================] - 1s 496ms/step\n",
            "2/2 [==============================] - 0s 241ms/step\n",
            "2/2 [==============================] - 0s 246ms/step\n",
            "2/2 [==============================] - 0s 23ms/step\n",
            "2/2 [==============================] - 1s 491ms/step\n",
            "2/2 [==============================] - 0s 389ms/step\n",
            "2/2 [==============================] - 1s 498ms/step\n",
            "2/2 [==============================] - 0s 25ms/step\n",
            "2/2 [==============================] - 1s 495ms/step\n",
            "2/2 [==============================] - 1s 487ms/step\n",
            "2/2 [==============================] - 1s 493ms/step\n",
            "2/2 [==============================] - 0s 22ms/step\n",
            "2/2 [==============================] - 0s 25ms/step\n",
            "2/2 [==============================] - 1s 473ms/step\n",
            "2/2 [==============================] - 0s 209ms/step\n",
            "2/2 [==============================] - 0s 247ms/step\n",
            "2/2 [==============================] - 1s 489ms/step\n",
            "2/2 [==============================] - 0s 34ms/step\n",
            "2/2 [==============================] - 0s 28ms/step\n",
            "2/2 [==============================] - 0s 22ms/step\n",
            "2/2 [==============================] - 0s 259ms/step\n",
            "2/2 [==============================] - 1s 479ms/step\n",
            "2/2 [==============================] - 0s 26ms/step\n",
            "2/2 [==============================] - 0s 266ms/step\n",
            "2/2 [==============================] - 1s 487ms/step\n",
            "2/2 [==============================] - 0s 37ms/step\n",
            "2/2 [==============================] - 0s 68ms/step\n",
            "2/2 [==============================] - 1s 268ms/step\n",
            "2/2 [==============================] - 0s 257ms/step\n",
            "2/2 [==============================] - 0s 250ms/step\n",
            "2/2 [==============================] - 0s 260ms/step\n",
            "2/2 [==============================] - 0s 23ms/step\n",
            "2/2 [==============================] - 0s 22ms/step\n",
            "2/2 [==============================] - 0s 321ms/step\n",
            "2/2 [==============================] - 1s 485ms/step\n",
            "2/2 [==============================] - 1s 473ms/step\n",
            "2/2 [==============================] - 1s 483ms/step\n",
            "2/2 [==============================] - 1s 482ms/step\n",
            "2/2 [==============================] - 1s 483ms/step\n",
            "2/2 [==============================] - 0s 23ms/step\n",
            "2/2 [==============================] - 1s 248ms/step\n",
            "2/2 [==============================] - 0s 33ms/step\n",
            "2/2 [==============================] - 0s 35ms/step\n",
            "2/2 [==============================] - 1s 226ms/step\n",
            "2/2 [==============================] - 1s 262ms/step\n",
            "2/2 [==============================] - 0s 252ms/step\n",
            "2/2 [==============================] - 1s 445ms/step\n",
            "2/2 [==============================] - 0s 22ms/step\n",
            "2/2 [==============================] - 0s 245ms/step\n",
            "2/2 [==============================] - 0s 252ms/step\n",
            "2/2 [==============================] - 0s 25ms/step\n",
            "2/2 [==============================] - 0s 23ms/step\n",
            "2/2 [==============================] - 1s 524ms/step\n",
            "2/2 [==============================] - 1s 479ms/step\n",
            "2/2 [==============================] - 1s 475ms/step\n",
            "2/2 [==============================] - 1s 466ms/step\n",
            "2/2 [==============================] - 0s 248ms/step\n",
            "2/2 [==============================] - 0s 248ms/step\n",
            "2/2 [==============================] - 1s 443ms/step\n",
            "2/2 [==============================] - 1s 504ms/step\n",
            "2/2 [==============================] - 1s 483ms/step\n",
            "2/2 [==============================] - 0s 265ms/step\n",
            "2/2 [==============================] - 0s 281ms/step\n",
            "2/2 [==============================] - 0s 29ms/step\n",
            "2/2 [==============================] - 0s 27ms/step\n",
            "2/2 [==============================] - 1s 363ms/step\n",
            "2/2 [==============================] - 0s 23ms/step\n",
            "2/2 [==============================] - 0s 34ms/step\n",
            "2/2 [==============================] - 1s 255ms/step\n",
            "2/2 [==============================] - 1s 485ms/step\n",
            "2/2 [==============================] - 1s 368ms/step\n",
            "2/2 [==============================] - 1s 481ms/step\n",
            "2/2 [==============================] - 1s 473ms/step\n",
            "2/2 [==============================] - 0s 254ms/step\n",
            "2/2 [==============================] - 1s 484ms/step\n",
            "2/2 [==============================] - 0s 305ms/step\n",
            "2/2 [==============================] - 0s 247ms/step\n",
            "2/2 [==============================] - 1s 490ms/step\n",
            "2/2 [==============================] - 0s 272ms/step\n",
            "2/2 [==============================] - 0s 41ms/step\n",
            "2/2 [==============================] - 0s 35ms/step\n",
            "2/2 [==============================] - 1s 482ms/step\n",
            "2/2 [==============================] - 1s 482ms/step\n",
            "2/2 [==============================] - 0s 306ms/step\n",
            "2/2 [==============================] - 0s 22ms/step\n",
            "2/2 [==============================] - 0s 350ms/step\n",
            "2/2 [==============================] - 1s 476ms/step\n",
            "2/2 [==============================] - 1s 481ms/step\n",
            "2/2 [==============================] - 0s 26ms/step\n",
            "2/2 [==============================] - 1s 475ms/step\n",
            "2/2 [==============================] - 0s 25ms/step\n",
            "2/2 [==============================] - 1s 477ms/step\n",
            "2/2 [==============================] - 1s 247ms/step\n",
            "2/2 [==============================] - 1s 482ms/step\n",
            "2/2 [==============================] - 0s 24ms/step\n",
            "2/2 [==============================] - 0s 233ms/step\n",
            "2/2 [==============================] - 0s 254ms/step\n",
            "1/1 [==============================] - 0s 182ms/step\n",
            "classification report\n",
            "              precision    recall  f1-score   support\n",
            "\n",
            "           0       0.34      1.00      0.51      4418\n",
            "           1       0.00      0.00      0.00      8405\n",
            "\n",
            "    accuracy                           0.34     12823\n",
            "   macro avg       0.17      0.50      0.26     12823\n",
            "weighted avg       0.12      0.34      0.18     12823\n",
            "\n"
          ]
        }
      ],
      "source": [
        "print(\"Evaluation for VGG16\")\n",
        "eval_model(custom_model, tf_dataset_test)"
      ]
    },
    {
      "cell_type": "code",
      "execution_count": 26,
      "metadata": {
        "colab": {
          "base_uri": "https://localhost:8080/"
        },
        "id": "rqrkRZnufynG",
        "outputId": "a17a5e92-4f36-4c13-f745-22b9205e2010"
      },
      "outputs": [
        {
          "name": "stdout",
          "output_type": "stream",
          "text": [
            "Downloading data from https://storage.googleapis.com/keras-applications/efficientnetb0_notop.h5\n",
            "16705208/16705208 [==============================] - 2s 0us/step\n",
            "Model: \"model_1\"\n",
            "_________________________________________________________________\n",
            " Layer (type)                Output Shape              Param #   \n",
            "=================================================================\n",
            " input_4 (InputLayer)        [(None, 299, 299, 3)]     0         \n",
            "                                                                 \n",
            " sequential (Sequential)     (None, 299, 299, 3)       0         \n",
            "                                                                 \n",
            " efficientnetb0 (Functional  (None, 10, 10, 1280)      4049571   \n",
            " )                                                               \n",
            "                                                                 \n",
            " flatten_1 (Flatten)         (None, 128000)            0         \n",
            "                                                                 \n",
            " batch_normalization_2 (Bat  (None, 128000)            512000    \n",
            " chNormalization)                                                \n",
            "                                                                 \n",
            " dropout_2 (Dropout)         (None, 128000)            0         \n",
            "                                                                 \n",
            " dense_2 (Dense)             (None, 1024)              131073024 \n",
            "                                                                 \n",
            " batch_normalization_3 (Bat  (None, 1024)              4096      \n",
            " chNormalization)                                                \n",
            "                                                                 \n",
            " dropout_3 (Dropout)         (None, 1024)              0         \n",
            "                                                                 \n",
            " dense_3 (Dense)             (None, 1)                 1025      \n",
            "                                                                 \n",
            "=================================================================\n",
            "Total params: 135639716 (517.42 MB)\n",
            "Trainable params: 131332097 (500.99 MB)\n",
            "Non-trainable params: 4307619 (16.43 MB)\n",
            "_________________________________________________________________\n"
          ]
        }
      ],
      "source": [
        "from keras.applications import EfficientNetB0\n",
        "from keras.models import Sequential, Model\n",
        "from keras.layers import Input, Flatten, Dense, BatchNormalization, Dropout\n",
        "from keras.optimizers import Adam\n",
        "from keras.losses import BinaryCrossentropy\n",
        "from keras.layers.experimental.preprocessing import RandomFlip, RandomRotation, RandomZoom, RandomTranslation, RandomContrast, RandomCrop\n",
        "\n",
        "def build_efficientnet_model(input_shape=(299, 299, 3)):\n",
        "\n",
        "\n",
        "    # Base EfficientNetB0 model\n",
        "    base_model = EfficientNetB0(include_top=False, weights='imagenet', input_shape=input_shape)\n",
        "    base_model.trainable = False\n",
        "\n",
        "    # Build the custom model\n",
        "    inputs = Input(shape=input_shape)\n",
        "    augmented_inputs = data_augmentation(inputs)\n",
        "    features = base_model(augmented_inputs)\n",
        "    flattened_features = Flatten()(features)\n",
        "    normalized_features = BatchNormalization()(flattened_features)\n",
        "    dropout1 = Dropout(0.2)(normalized_features)\n",
        "    dense1 = Dense(1024, activation='relu')(dropout1)\n",
        "    normalized_dense1 = BatchNormalization()(dense1)\n",
        "    dropout2 = Dropout(0.2)(normalized_dense1)\n",
        "    output = Dense(1, activation='sigmoid')(dropout2)\n",
        "\n",
        "    model = Model(inputs=inputs, outputs=output)\n",
        "\n",
        "    # Compile the model\n",
        "    model.compile(optimizer=Adam(learning_rate=0.001),\n",
        "                  loss=BinaryCrossentropy(from_logits=True),\n",
        "                  metrics=['accuracy'])\n",
        "\n",
        "    return model\n",
        "\n",
        "# Build the EfficientNetB0 model\n",
        "efficientnet_model = build_efficientnet_model()\n",
        "\n",
        "# Display the model summary\n",
        "efficientnet_model.summary()"
      ]
    },
    {
      "cell_type": "code",
      "execution_count": 27,
      "metadata": {
        "colab": {
          "base_uri": "https://localhost:8080/"
        },
        "id": "rM6kQJFjmn28",
        "outputId": "b498683a-a5b1-4c7d-c426-2adca52ab242"
      },
      "outputs": [
        {
          "name": "stdout",
          "output_type": "stream",
          "text": [
            "Epoch 1/20\n",
            "464/464 [==============================] - 444s 929ms/step - loss: 0.7930 - accuracy: 0.5465 - val_loss: 0.6936 - val_accuracy: 0.6086\n",
            "Epoch 2/20\n",
            "464/464 [==============================] - 373s 803ms/step - loss: 0.7130 - accuracy: 0.5586 - val_loss: 0.7958 - val_accuracy: 0.2850\n",
            "Epoch 3/20\n",
            "464/464 [==============================] - 362s 779ms/step - loss: 0.6976 - accuracy: 0.5674 - val_loss: 0.8727 - val_accuracy: 0.3215\n",
            "Epoch 4/20\n",
            "464/464 [==============================] - 364s 783ms/step - loss: 0.6899 - accuracy: 0.5719 - val_loss: 0.8277 - val_accuracy: 0.3094\n",
            "Epoch 5/20\n",
            "464/464 [==============================] - 365s 786ms/step - loss: 0.6889 - accuracy: 0.5768 - val_loss: 0.8110 - val_accuracy: 0.2963\n",
            "Epoch 6/20\n",
            "464/464 [==============================] - 366s 788ms/step - loss: 0.6873 - accuracy: 0.5731 - val_loss: 0.8642 - val_accuracy: 0.3218\n",
            "Epoch 7/20\n",
            "464/464 [==============================] - 413s 889ms/step - loss: 0.6832 - accuracy: 0.5756 - val_loss: 0.8901 - val_accuracy: 0.3218\n",
            "Epoch 8/20\n",
            "464/464 [==============================] - 362s 780ms/step - loss: 0.6848 - accuracy: 0.5734 - val_loss: 0.8602 - val_accuracy: 0.3196\n",
            "Epoch 9/20\n",
            "464/464 [==============================] - 363s 781ms/step - loss: 0.6841 - accuracy: 0.5764 - val_loss: 0.8744 - val_accuracy: 0.3218\n",
            "Epoch 10/20\n",
            "464/464 [==============================] - 364s 783ms/step - loss: 0.6805 - accuracy: 0.5791 - val_loss: 0.8351 - val_accuracy: 0.3204\n",
            "Epoch 11/20\n",
            "464/464 [==============================] - 413s 889ms/step - loss: 0.6827 - accuracy: 0.5763 - val_loss: 0.8955 - val_accuracy: 0.3218\n"
          ]
        }
      ],
      "source": [
        "early_stopping = EarlyStopping(monitor='val_loss', patience=10, restore_best_weights=True)\n",
        "history2 = efficientnet_model.fit(tf_dataset_train, epochs=20, verbose=1, validation_data=tf_dataset_val, callbacks=[early_stopping])"
      ]
    },
    {
      "cell_type": "code",
      "execution_count": 28,
      "metadata": {
        "colab": {
          "base_uri": "https://localhost:8080/"
        },
        "id": "ZBkF7U-U30eb",
        "outputId": "35b2affe-0bbd-43ec-be62-ea776e055b8b"
      },
      "outputs": [
        {
          "name": "stdout",
          "output_type": "stream",
          "text": [
            "201/201 [==============================] - 180s 894ms/step - loss: 0.3019 - accuracy: 0.8753\n",
            "test accuracy -  87.53021955490112 %\n"
          ]
        }
      ],
      "source": [
        "test_loss3,test_accuracy3 = custom_model.evaluate(tf_dataset_test)\n",
        "print(\"test accuracy - \",test_accuracy3*100, \"%\")"
      ]
    },
    {
      "cell_type": "code",
      "execution_count": 29,
      "metadata": {
        "colab": {
          "base_uri": "https://localhost:8080/",
          "height": 503
        },
        "id": "-qrBdbTo4X8f",
        "outputId": "0707fbdb-03c6-474b-ee41-f1f5d12298fa"
      },
      "outputs": [
        {
          "data": {
            "image/png": "[encoded data removed]",
            "text/plain": [
              "<Figure size 800x550 with 1 Axes>"
            ]
          },
          "metadata": {},
          "output_type": "display_data"
        }
      ],
      "source": [
        "plot_accuracy(history2)"
      ]
    },
    {
      "cell_type": "code",
      "execution_count": 30,
      "metadata": {
        "colab": {
          "base_uri": "https://localhost:8080/",
          "height": 503
        },
        "id": "QtAwp_my4gfP",
        "outputId": "bfdd7ed0-5cff-42f1-d747-866868d23a82"
      },
      "outputs": [
        {
          "data": {
            "image/png": "[encoded data removed]",
            "text/plain": [
              "<Figure size 800x550 with 1 Axes>"
            ]
          },
          "metadata": {},
          "output_type": "display_data"
        }
      ],
      "source": [
        "plot_loss(history2)"
      ]
    },
    {
      "cell_type": "code",
      "execution_count": 31,
      "metadata": {
        "colab": {
          "base_uri": "https://localhost:8080/"
        },
        "id": "oRypeLI65Bxk",
        "outputId": "0ff8c93b-45ea-4513-a76b-036f184ded04"
      },
      "outputs": [
        {
          "name": "stdout",
          "output_type": "stream",
          "text": [
            "Evaluation for EfficientNetB0\n",
            "2/2 [==============================] - 3s 25ms/step\n",
            "2/2 [==============================] - 0s 120ms/step\n",
            "2/2 [==============================] - 0s 166ms/step\n",
            "2/2 [==============================] - 0s 57ms/step\n",
            "2/2 [==============================] - 0s 137ms/step\n",
            "2/2 [==============================] - 0s 212ms/step\n",
            "2/2 [==============================] - 0s 58ms/step\n",
            "2/2 [==============================] - 0s 38ms/step\n",
            "2/2 [==============================] - 0s 122ms/step\n",
            "2/2 [==============================] - 0s 108ms/step\n",
            "2/2 [==============================] - 0s 139ms/step\n",
            "2/2 [==============================] - 0s 206ms/step\n",
            "2/2 [==============================] - 0s 186ms/step\n",
            "2/2 [==============================] - 0s 76ms/step\n",
            "2/2 [==============================] - 0s 47ms/step\n",
            "2/2 [==============================] - 0s 133ms/step\n",
            "2/2 [==============================] - 0s 172ms/step\n",
            "2/2 [==============================] - 0s 151ms/step\n",
            "2/2 [==============================] - 0s 127ms/step\n",
            "2/2 [==============================] - 0s 159ms/step\n",
            "2/2 [==============================] - 0s 122ms/step\n",
            "2/2 [==============================] - 0s 126ms/step\n",
            "2/2 [==============================] - 0s 61ms/step\n",
            "2/2 [==============================] - 0s 33ms/step\n",
            "2/2 [==============================] - 0s 134ms/step\n",
            "2/2 [==============================] - 0s 157ms/step\n",
            "2/2 [==============================] - 0s 207ms/step\n",
            "2/2 [==============================] - 0s 177ms/step\n",
            "2/2 [==============================] - 0s 31ms/step\n",
            "2/2 [==============================] - 0s 77ms/step\n",
            "2/2 [==============================] - 0s 39ms/step\n",
            "2/2 [==============================] - 0s 170ms/step\n",
            "2/2 [==============================] - 0s 184ms/step\n",
            "2/2 [==============================] - 0s 84ms/step\n",
            "2/2 [==============================] - 0s 146ms/step\n",
            "2/2 [==============================] - 0s 203ms/step\n",
            "2/2 [==============================] - 0s 171ms/step\n",
            "2/2 [==============================] - 0s 142ms/step\n",
            "2/2 [==============================] - 0s 37ms/step\n",
            "2/2 [==============================] - 0s 68ms/step\n",
            "2/2 [==============================] - 0s 149ms/step\n",
            "2/2 [==============================] - 0s 161ms/step\n",
            "2/2 [==============================] - 0s 131ms/step\n",
            "2/2 [==============================] - 0s 157ms/step\n",
            "2/2 [==============================] - 0s 37ms/step\n",
            "2/2 [==============================] - 0s 128ms/step\n",
            "2/2 [==============================] - 0s 58ms/step\n",
            "2/2 [==============================] - 0s 121ms/step\n",
            "2/2 [==============================] - 0s 88ms/step\n",
            "2/2 [==============================] - 0s 84ms/step\n",
            "2/2 [==============================] - 0s 207ms/step\n",
            "2/2 [==============================] - 0s 90ms/step\n",
            "2/2 [==============================] - 0s 30ms/step\n",
            "2/2 [==============================] - 0s 42ms/step\n",
            "2/2 [==============================] - 0s 208ms/step\n",
            "2/2 [==============================] - 0s 109ms/step\n",
            "2/2 [==============================] - 0s 141ms/step\n",
            "2/2 [==============================] - 0s 141ms/step\n",
            "2/2 [==============================] - 0s 155ms/step\n",
            "2/2 [==============================] - 0s 146ms/step\n",
            "2/2 [==============================] - 0s 142ms/step\n",
            "2/2 [==============================] - 0s 141ms/step\n",
            "2/2 [==============================] - 0s 104ms/step\n",
            "2/2 [==============================] - 0s 153ms/step\n",
            "2/2 [==============================] - 0s 129ms/step\n",
            "2/2 [==============================] - 0s 171ms/step\n",
            "2/2 [==============================] - 0s 214ms/step\n",
            "2/2 [==============================] - 0s 60ms/step\n",
            "2/2 [==============================] - 0s 180ms/step\n",
            "2/2 [==============================] - 0s 128ms/step\n",
            "2/2 [==============================] - 0s 151ms/step\n",
            "2/2 [==============================] - 0s 30ms/step\n",
            "2/2 [==============================] - 0s 61ms/step\n",
            "2/2 [==============================] - 0s 130ms/step\n",
            "2/2 [==============================] - 0s 86ms/step\n",
            "2/2 [==============================] - 0s 109ms/step\n",
            "2/2 [==============================] - 0s 79ms/step\n",
            "2/2 [==============================] - 0s 184ms/step\n",
            "2/2 [==============================] - 0s 133ms/step\n",
            "2/2 [==============================] - 0s 201ms/step\n",
            "2/2 [==============================] - 0s 123ms/step\n",
            "2/2 [==============================] - 0s 123ms/step\n",
            "2/2 [==============================] - 0s 148ms/step\n",
            "2/2 [==============================] - 0s 210ms/step\n",
            "2/2 [==============================] - 0s 170ms/step\n",
            "2/2 [==============================] - 0s 110ms/step\n",
            "2/2 [==============================] - 0s 145ms/step\n",
            "2/2 [==============================] - 0s 152ms/step\n",
            "2/2 [==============================] - 0s 146ms/step\n",
            "2/2 [==============================] - 0s 124ms/step\n",
            "2/2 [==============================] - 0s 153ms/step\n",
            "2/2 [==============================] - 0s 158ms/step\n",
            "2/2 [==============================] - 0s 74ms/step\n",
            "2/2 [==============================] - 0s 94ms/step\n",
            "2/2 [==============================] - 0s 127ms/step\n",
            "2/2 [==============================] - 0s 131ms/step\n",
            "2/2 [==============================] - 0s 207ms/step\n",
            "2/2 [==============================] - 0s 118ms/step\n",
            "2/2 [==============================] - 0s 31ms/step\n",
            "2/2 [==============================] - 0s 190ms/step\n",
            "2/2 [==============================] - 0s 70ms/step\n",
            "2/2 [==============================] - 0s 213ms/step\n",
            "2/2 [==============================] - 0s 214ms/step\n",
            "2/2 [==============================] - 0s 30ms/step\n",
            "2/2 [==============================] - 0s 130ms/step\n",
            "2/2 [==============================] - 0s 45ms/step\n",
            "2/2 [==============================] - 0s 160ms/step\n",
            "2/2 [==============================] - 0s 208ms/step\n",
            "2/2 [==============================] - 0s 226ms/step\n",
            "2/2 [==============================] - 0s 64ms/step\n",
            "2/2 [==============================] - 0s 135ms/step\n",
            "2/2 [==============================] - 0s 116ms/step\n",
            "2/2 [==============================] - 0s 71ms/step\n",
            "2/2 [==============================] - 0s 100ms/step\n",
            "2/2 [==============================] - 0s 30ms/step\n",
            "2/2 [==============================] - 0s 32ms/step\n",
            "2/2 [==============================] - 0s 127ms/step\n",
            "2/2 [==============================] - 0s 91ms/step\n",
            "2/2 [==============================] - 0s 135ms/step\n",
            "2/2 [==============================] - 0s 151ms/step\n",
            "2/2 [==============================] - 0s 208ms/step\n",
            "2/2 [==============================] - 0s 47ms/step\n",
            "2/2 [==============================] - 0s 154ms/step\n",
            "2/2 [==============================] - 0s 116ms/step\n",
            "2/2 [==============================] - 0s 213ms/step\n",
            "2/2 [==============================] - 0s 46ms/step\n",
            "2/2 [==============================] - 0s 98ms/step\n",
            "2/2 [==============================] - 0s 28ms/step\n",
            "2/2 [==============================] - 0s 158ms/step\n",
            "2/2 [==============================] - 0s 125ms/step\n",
            "2/2 [==============================] - 0s 82ms/step\n",
            "2/2 [==============================] - 0s 193ms/step\n",
            "2/2 [==============================] - 0s 130ms/step\n",
            "2/2 [==============================] - 0s 123ms/step\n",
            "2/2 [==============================] - 0s 136ms/step\n",
            "2/2 [==============================] - 0s 192ms/step\n",
            "2/2 [==============================] - 0s 131ms/step\n",
            "2/2 [==============================] - 0s 69ms/step\n",
            "2/2 [==============================] - 0s 96ms/step\n",
            "2/2 [==============================] - 0s 155ms/step\n",
            "2/2 [==============================] - 0s 125ms/step\n",
            "2/2 [==============================] - 0s 209ms/step\n",
            "2/2 [==============================] - 0s 208ms/step\n",
            "2/2 [==============================] - 0s 155ms/step\n",
            "2/2 [==============================] - 0s 192ms/step\n",
            "2/2 [==============================] - 0s 47ms/step\n",
            "2/2 [==============================] - 0s 181ms/step\n",
            "2/2 [==============================] - 0s 40ms/step\n",
            "2/2 [==============================] - 0s 30ms/step\n",
            "2/2 [==============================] - 0s 127ms/step\n",
            "2/2 [==============================] - 0s 123ms/step\n",
            "2/2 [==============================] - 0s 29ms/step\n",
            "2/2 [==============================] - 0s 215ms/step\n",
            "2/2 [==============================] - 0s 29ms/step\n",
            "2/2 [==============================] - 0s 150ms/step\n",
            "2/2 [==============================] - 0s 113ms/step\n",
            "2/2 [==============================] - 0s 141ms/step\n",
            "2/2 [==============================] - 0s 165ms/step\n",
            "2/2 [==============================] - 0s 94ms/step\n",
            "2/2 [==============================] - 0s 176ms/step\n",
            "2/2 [==============================] - 0s 154ms/step\n",
            "2/2 [==============================] - 0s 90ms/step\n",
            "2/2 [==============================] - 0s 141ms/step\n",
            "2/2 [==============================] - 0s 189ms/step\n",
            "2/2 [==============================] - 0s 187ms/step\n",
            "2/2 [==============================] - 0s 132ms/step\n",
            "2/2 [==============================] - 0s 170ms/step\n",
            "2/2 [==============================] - 0s 148ms/step\n",
            "2/2 [==============================] - 0s 126ms/step\n",
            "2/2 [==============================] - 0s 93ms/step\n",
            "2/2 [==============================] - 0s 209ms/step\n",
            "2/2 [==============================] - 0s 125ms/step\n",
            "2/2 [==============================] - 0s 179ms/step\n",
            "2/2 [==============================] - 0s 133ms/step\n",
            "2/2 [==============================] - 0s 136ms/step\n",
            "2/2 [==============================] - 0s 126ms/step\n",
            "2/2 [==============================] - 0s 86ms/step\n",
            "2/2 [==============================] - 0s 162ms/step\n",
            "2/2 [==============================] - 0s 47ms/step\n",
            "2/2 [==============================] - 0s 174ms/step\n",
            "2/2 [==============================] - 0s 98ms/step\n",
            "2/2 [==============================] - 0s 172ms/step\n",
            "2/2 [==============================] - 0s 123ms/step\n",
            "2/2 [==============================] - 0s 95ms/step\n",
            "2/2 [==============================] - 0s 219ms/step\n",
            "2/2 [==============================] - 0s 147ms/step\n",
            "2/2 [==============================] - 0s 74ms/step\n",
            "2/2 [==============================] - 0s 203ms/step\n",
            "2/2 [==============================] - 0s 132ms/step\n",
            "2/2 [==============================] - 0s 153ms/step\n",
            "2/2 [==============================] - 0s 142ms/step\n",
            "2/2 [==============================] - 0s 82ms/step\n",
            "2/2 [==============================] - 0s 120ms/step\n",
            "2/2 [==============================] - 0s 120ms/step\n",
            "2/2 [==============================] - 0s 208ms/step\n",
            "2/2 [==============================] - 0s 120ms/step\n",
            "2/2 [==============================] - 0s 122ms/step\n",
            "2/2 [==============================] - 0s 212ms/step\n",
            "2/2 [==============================] - 0s 109ms/step\n",
            "2/2 [==============================] - 0s 113ms/step\n",
            "1/1 [==============================] - 3s 3s/step\n",
            "classification report\n",
            "              precision    recall  f1-score   support\n",
            "\n",
            "           0       0.34      1.00      0.51      4418\n",
            "           1       0.00      0.00      0.00      8405\n",
            "\n",
            "    accuracy                           0.34     12823\n",
            "   macro avg       0.17      0.50      0.26     12823\n",
            "weighted avg       0.12      0.34      0.18     12823\n",
            "\n"
          ]
        }
      ],
      "source": [
        "print(\"Evaluation for EfficientNetB0\")\n",
        "eval_model(efficientnet_model, tf_dataset_test)"
      ]
    }
  ],
  "metadata": {
    "accelerator": "GPU",
    "colab": {
      "gpuType": "T4",
      "provenance": []
    },
    "kernelspec": {
      "display_name": "Python 3",
      "name": "python3"
    },
    "language_info": {
      "name": "python"
    }
  },
  "nbformat": 4,
  "nbformat_minor": 0
}
